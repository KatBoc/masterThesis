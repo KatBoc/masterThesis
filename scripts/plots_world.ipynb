{
 "cells": [
  {
   "metadata": {
    "ExecuteTime": {
     "end_time": "2025-02-25T21:12:05.334501Z",
     "start_time": "2025-02-25T21:12:04.503183Z"
    }
   },
   "cell_type": "code",
   "source": [
    "from datetime import datetime\n",
    "from pathlib import Path\n",
    "\n",
    "import plotly.graph_objects as go\n",
    "import plotly.express as px\n",
    "from scripts.ETL.co2analytics import CO2Analytics\n",
    "import pandas as pd"
   ],
   "id": "3fc368752d2241bb",
   "outputs": [],
   "execution_count": 1
  },
  {
   "metadata": {
    "ExecuteTime": {
     "end_time": "2025-02-25T21:12:08.671486Z",
     "start_time": "2025-02-25T21:12:07.009846Z"
    }
   },
   "cell_type": "code",
   "source": [
    "CO2Analytics = CO2Analytics(main_dir=Path('C:/Users/KatarzynaBocian(2399/Desktop/BDA/masterThesis/scripts'))\n",
    "CO2Analytics.run()\n",
    "plots_config = CO2Analytics.plot_config\n",
    "print('finished transforming the data')"
   ],
   "id": "d466872060926bf5",
   "outputs": [
    {
     "name": "stdout",
     "output_type": "stream",
     "text": [
      "(108, 19)\n",
      "(10928, 36)\n",
      "['buildings' 'transport' 'other']\n",
      "['other' 'buildings' 'transport']\n",
      "finished transforming the data\n"
     ]
    }
   ],
   "execution_count": 2
  },
  {
   "metadata": {
    "ExecuteTime": {
     "end_time": "2025-02-25T21:12:14.506201Z",
     "start_time": "2025-02-25T21:12:14.490204Z"
    }
   },
   "cell_type": "code",
   "source": [
    "raw = CO2Analytics.transformed_world_data\n",
    "# raw.drop(columns=['total'], inplace=True)"
   ],
   "id": "eef53f50059f9e38",
   "outputs": [],
   "execution_count": 3
  },
  {
   "metadata": {
    "ExecuteTime": {
     "end_time": "2025-02-25T21:12:16.520943Z",
     "start_time": "2025-02-25T21:12:16.504942Z"
    }
   },
   "cell_type": "code",
   "source": "raw.columns",
   "id": "682f3eade1df4bcf",
   "outputs": [
    {
     "data": {
      "text/plain": [
       "Index(['country', 'subsector', 'gas', 'year', 'emission', 'sector'], dtype='object')"
      ]
     },
     "execution_count": 4,
     "metadata": {},
     "output_type": "execute_result"
    }
   ],
   "execution_count": 4
  },
  {
   "metadata": {
    "ExecuteTime": {
     "end_time": "2025-02-25T21:12:18.188817Z",
     "start_time": "2025-02-25T21:12:18.148735Z"
    }
   },
   "cell_type": "code",
   "source": "raw",
   "id": "ad32c83d83c04647",
   "outputs": [
    {
     "data": {
      "text/plain": [
       "       country             subsector      gas       year   emission     sector\n",
       "0          afg  total excluding lucf  all ghg 1990-01-01  11.627536      other\n",
       "1          afg  total including lucf  all ghg 1990-01-01   9.238795      other\n",
       "2          afg                energy  all ghg 1990-01-01   2.280285  buildings\n",
       "3          afg  industrial processes  all ghg 1990-01-01   0.052709  buildings\n",
       "4          afg           agriculture  all ghg 1990-01-01   8.065925      other\n",
       "...        ...                   ...      ...        ...        ...        ...\n",
       "349691     zwe  industrial processes    f-gas 2021-01-01   0.976243  buildings\n",
       "349692     zwe  total including lucf      co2 2021-01-01  96.714439      other\n",
       "349693     zwe  total including lucf      ch4 2021-01-01  12.428957      other\n",
       "349694     zwe  total including lucf      n2o 2021-01-01   4.923862      other\n",
       "349695     zwe  total including lucf    f-gas 2021-01-01   0.976243      other\n",
       "\n",
       "[349696 rows x 6 columns]"
      ],
      "text/html": [
       "<div>\n",
       "<style scoped>\n",
       "    .dataframe tbody tr th:only-of-type {\n",
       "        vertical-align: middle;\n",
       "    }\n",
       "\n",
       "    .dataframe tbody tr th {\n",
       "        vertical-align: top;\n",
       "    }\n",
       "\n",
       "    .dataframe thead th {\n",
       "        text-align: right;\n",
       "    }\n",
       "</style>\n",
       "<table border=\"1\" class=\"dataframe\">\n",
       "  <thead>\n",
       "    <tr style=\"text-align: right;\">\n",
       "      <th></th>\n",
       "      <th>country</th>\n",
       "      <th>subsector</th>\n",
       "      <th>gas</th>\n",
       "      <th>year</th>\n",
       "      <th>emission</th>\n",
       "      <th>sector</th>\n",
       "    </tr>\n",
       "  </thead>\n",
       "  <tbody>\n",
       "    <tr>\n",
       "      <th>0</th>\n",
       "      <td>afg</td>\n",
       "      <td>total excluding lucf</td>\n",
       "      <td>all ghg</td>\n",
       "      <td>1990-01-01</td>\n",
       "      <td>11.627536</td>\n",
       "      <td>other</td>\n",
       "    </tr>\n",
       "    <tr>\n",
       "      <th>1</th>\n",
       "      <td>afg</td>\n",
       "      <td>total including lucf</td>\n",
       "      <td>all ghg</td>\n",
       "      <td>1990-01-01</td>\n",
       "      <td>9.238795</td>\n",
       "      <td>other</td>\n",
       "    </tr>\n",
       "    <tr>\n",
       "      <th>2</th>\n",
       "      <td>afg</td>\n",
       "      <td>energy</td>\n",
       "      <td>all ghg</td>\n",
       "      <td>1990-01-01</td>\n",
       "      <td>2.280285</td>\n",
       "      <td>buildings</td>\n",
       "    </tr>\n",
       "    <tr>\n",
       "      <th>3</th>\n",
       "      <td>afg</td>\n",
       "      <td>industrial processes</td>\n",
       "      <td>all ghg</td>\n",
       "      <td>1990-01-01</td>\n",
       "      <td>0.052709</td>\n",
       "      <td>buildings</td>\n",
       "    </tr>\n",
       "    <tr>\n",
       "      <th>4</th>\n",
       "      <td>afg</td>\n",
       "      <td>agriculture</td>\n",
       "      <td>all ghg</td>\n",
       "      <td>1990-01-01</td>\n",
       "      <td>8.065925</td>\n",
       "      <td>other</td>\n",
       "    </tr>\n",
       "    <tr>\n",
       "      <th>...</th>\n",
       "      <td>...</td>\n",
       "      <td>...</td>\n",
       "      <td>...</td>\n",
       "      <td>...</td>\n",
       "      <td>...</td>\n",
       "      <td>...</td>\n",
       "    </tr>\n",
       "    <tr>\n",
       "      <th>349691</th>\n",
       "      <td>zwe</td>\n",
       "      <td>industrial processes</td>\n",
       "      <td>f-gas</td>\n",
       "      <td>2021-01-01</td>\n",
       "      <td>0.976243</td>\n",
       "      <td>buildings</td>\n",
       "    </tr>\n",
       "    <tr>\n",
       "      <th>349692</th>\n",
       "      <td>zwe</td>\n",
       "      <td>total including lucf</td>\n",
       "      <td>co2</td>\n",
       "      <td>2021-01-01</td>\n",
       "      <td>96.714439</td>\n",
       "      <td>other</td>\n",
       "    </tr>\n",
       "    <tr>\n",
       "      <th>349693</th>\n",
       "      <td>zwe</td>\n",
       "      <td>total including lucf</td>\n",
       "      <td>ch4</td>\n",
       "      <td>2021-01-01</td>\n",
       "      <td>12.428957</td>\n",
       "      <td>other</td>\n",
       "    </tr>\n",
       "    <tr>\n",
       "      <th>349694</th>\n",
       "      <td>zwe</td>\n",
       "      <td>total including lucf</td>\n",
       "      <td>n2o</td>\n",
       "      <td>2021-01-01</td>\n",
       "      <td>4.923862</td>\n",
       "      <td>other</td>\n",
       "    </tr>\n",
       "    <tr>\n",
       "      <th>349695</th>\n",
       "      <td>zwe</td>\n",
       "      <td>total including lucf</td>\n",
       "      <td>f-gas</td>\n",
       "      <td>2021-01-01</td>\n",
       "      <td>0.976243</td>\n",
       "      <td>other</td>\n",
       "    </tr>\n",
       "  </tbody>\n",
       "</table>\n",
       "<p>349696 rows × 6 columns</p>\n",
       "</div>"
      ]
     },
     "execution_count": 5,
     "metadata": {},
     "output_type": "execute_result"
    }
   ],
   "execution_count": 5
  },
  {
   "metadata": {
    "ExecuteTime": {
     "end_time": "2025-02-25T21:12:21.772564Z",
     "start_time": "2025-02-25T21:12:21.699178Z"
    }
   },
   "cell_type": "code",
   "source": [
    "df_world = raw.groupby(['year', 'sector'])['emission'].sum().reset_index()\n",
    "df_world"
   ],
   "id": "1f4c8724a510f545",
   "outputs": [
    {
     "data": {
      "text/plain": [
       "         year     sector       emission\n",
       "0  1990-01-01  buildings  152901.333328\n",
       "1  1990-01-01      other  330483.862893\n",
       "2  1990-01-01  transport   21721.705400\n",
       "3  1991-01-01  buildings  154069.043961\n",
       "4  1991-01-01      other  330988.111140\n",
       "..        ...        ...            ...\n",
       "91 2020-01-01      other  457619.516046\n",
       "92 2020-01-01  transport   32548.788400\n",
       "93 2021-01-01  buildings  245218.314042\n",
       "94 2021-01-01      other  476141.527240\n",
       "95 2021-01-01  transport   35056.799000\n",
       "\n",
       "[96 rows x 3 columns]"
      ],
      "text/html": [
       "<div>\n",
       "<style scoped>\n",
       "    .dataframe tbody tr th:only-of-type {\n",
       "        vertical-align: middle;\n",
       "    }\n",
       "\n",
       "    .dataframe tbody tr th {\n",
       "        vertical-align: top;\n",
       "    }\n",
       "\n",
       "    .dataframe thead th {\n",
       "        text-align: right;\n",
       "    }\n",
       "</style>\n",
       "<table border=\"1\" class=\"dataframe\">\n",
       "  <thead>\n",
       "    <tr style=\"text-align: right;\">\n",
       "      <th></th>\n",
       "      <th>year</th>\n",
       "      <th>sector</th>\n",
       "      <th>emission</th>\n",
       "    </tr>\n",
       "  </thead>\n",
       "  <tbody>\n",
       "    <tr>\n",
       "      <th>0</th>\n",
       "      <td>1990-01-01</td>\n",
       "      <td>buildings</td>\n",
       "      <td>152901.333328</td>\n",
       "    </tr>\n",
       "    <tr>\n",
       "      <th>1</th>\n",
       "      <td>1990-01-01</td>\n",
       "      <td>other</td>\n",
       "      <td>330483.862893</td>\n",
       "    </tr>\n",
       "    <tr>\n",
       "      <th>2</th>\n",
       "      <td>1990-01-01</td>\n",
       "      <td>transport</td>\n",
       "      <td>21721.705400</td>\n",
       "    </tr>\n",
       "    <tr>\n",
       "      <th>3</th>\n",
       "      <td>1991-01-01</td>\n",
       "      <td>buildings</td>\n",
       "      <td>154069.043961</td>\n",
       "    </tr>\n",
       "    <tr>\n",
       "      <th>4</th>\n",
       "      <td>1991-01-01</td>\n",
       "      <td>other</td>\n",
       "      <td>330988.111140</td>\n",
       "    </tr>\n",
       "    <tr>\n",
       "      <th>...</th>\n",
       "      <td>...</td>\n",
       "      <td>...</td>\n",
       "      <td>...</td>\n",
       "    </tr>\n",
       "    <tr>\n",
       "      <th>91</th>\n",
       "      <td>2020-01-01</td>\n",
       "      <td>other</td>\n",
       "      <td>457619.516046</td>\n",
       "    </tr>\n",
       "    <tr>\n",
       "      <th>92</th>\n",
       "      <td>2020-01-01</td>\n",
       "      <td>transport</td>\n",
       "      <td>32548.788400</td>\n",
       "    </tr>\n",
       "    <tr>\n",
       "      <th>93</th>\n",
       "      <td>2021-01-01</td>\n",
       "      <td>buildings</td>\n",
       "      <td>245218.314042</td>\n",
       "    </tr>\n",
       "    <tr>\n",
       "      <th>94</th>\n",
       "      <td>2021-01-01</td>\n",
       "      <td>other</td>\n",
       "      <td>476141.527240</td>\n",
       "    </tr>\n",
       "    <tr>\n",
       "      <th>95</th>\n",
       "      <td>2021-01-01</td>\n",
       "      <td>transport</td>\n",
       "      <td>35056.799000</td>\n",
       "    </tr>\n",
       "  </tbody>\n",
       "</table>\n",
       "<p>96 rows × 3 columns</p>\n",
       "</div>"
      ]
     },
     "execution_count": 6,
     "metadata": {},
     "output_type": "execute_result"
    }
   ],
   "execution_count": 6
  },
  {
   "metadata": {
    "ExecuteTime": {
     "end_time": "2025-02-25T21:25:48.784078Z",
     "start_time": "2025-02-25T21:25:48.551010Z"
    }
   },
   "cell_type": "code",
   "source": [
    "fuel_fig = px.bar(\n",
    "    df_world,\n",
    "    x='year',\n",
    "    y='emission',\n",
    "    color='sector',\n",
    "    title='Emissions by sector in Each Year',\n",
    "    barmode='stack',\n",
    "    color_discrete_map={\n",
    "        'buildings': 'rgb(234, 192, 239, 1)',\n",
    "        'transport': 'rgb(197, 239, 192, 1)',\n",
    "        'other': 'rgb(192, 197, 239, 1)',\n",
    "    }\n",
    ")\n",
    "\n",
    "fuel_fig.update_layout(\n",
    "    updatemenus=[\n",
    "        {\n",
    "            'buttons': [\n",
    "                {\n",
    "                    'label': 'All Sectors',\n",
    "                    'method': 'update',\n",
    "                    'args': [{'visible': [True, True, True]}, {'title': 'Emissions by Fuel Category in Each Year'}]\n",
    "                },\n",
    "                {\n",
    "                    'label': 'Buildings',\n",
    "                    'method': 'update',\n",
    "                    'args': [{'visible': [True, False, False]}, {'title': 'Emissions from buildings'}]\n",
    "                },\n",
    "                {\n",
    "                    'label': 'Transport',\n",
    "                    'method': 'update',\n",
    "                    'args': [{'visible': [False, False, True]}, {'title': 'Emissions from transport'}]\n",
    "                },\n",
    "                {\n",
    "                    'label': 'Other',\n",
    "                    'method': 'update',\n",
    "                    'args': [{'visible': [False, True, False]}, {'title': 'Emissions from other sectors'}]\n",
    "                }\n",
    "\n",
    "            ],\n",
    "            'direction': 'right',\n",
    "            'showactive': True,\n",
    "            'x': 0,\n",
    "            'xanchor': 'left',\n",
    "            'y': 1.07,\n",
    "            'yanchor': 'top',\n",
    "            'bgcolor': f\"rgba{plots_config['background']['local']}\"\n",
    "        }\n",
    "    ]\n",
    ")\n",
    "\n",
    "fuel_fig.update_layout(\n",
    "    paper_bgcolor=f\"rgba{plots_config['background']['online']}\",\n",
    "    plot_bgcolor=f\"rgba{plots_config['background']['online']}\",\n",
    "    font_color='black',  # Change all text to black\n",
    "    xaxis=dict(\n",
    "        title_font=dict(color='black'),  # X-axis title color\n",
    "        tickfont=dict(color='black')       # X-axis tick color\n",
    "    ),\n",
    "    yaxis=dict(\n",
    "        title_font=dict(color='black'),  # Y-axis title color\n",
    "        tickfont=dict(color='black')       # Y-axis tick color\n",
    "    ),\n",
    ")\n",
    "\n",
    "fuel_fig.show()\n",
    "fuel_fig.write_html(\"world.html\")\n",
    "fuel_fig.write_html(\"../NicePage/Site1/world.html\")"
   ],
   "id": "c0e05f6929952378",
   "outputs": [
    {
     "data": {
      "application/vnd.plotly.v1+json": {
       "data": [
        {
         "alignmentgroup": "True",
         "hovertemplate": "sector=buildings<br>year=%{x}<br>emission=%{y}<extra></extra>",
         "legendgroup": "buildings",
         "marker": {
          "color": "rgb(234, 192, 239, 1)",
          "pattern": {
           "shape": ""
          }
         },
         "name": "buildings",
         "offsetgroup": "buildings",
         "orientation": "v",
         "showlegend": true,
         "textposition": "auto",
         "x": [
          "1990-01-01T00:00:00",
          "1991-01-01T00:00:00",
          "1992-01-01T00:00:00",
          "1993-01-01T00:00:00",
          "1994-01-01T00:00:00",
          "1995-01-01T00:00:00",
          "1996-01-01T00:00:00",
          "1997-01-01T00:00:00",
          "1998-01-01T00:00:00",
          "1999-01-01T00:00:00",
          "2000-01-01T00:00:00",
          "2001-01-01T00:00:00",
          "2002-01-01T00:00:00",
          "2003-01-01T00:00:00",
          "2004-01-01T00:00:00",
          "2005-01-01T00:00:00",
          "2006-01-01T00:00:00",
          "2007-01-01T00:00:00",
          "2008-01-01T00:00:00",
          "2009-01-01T00:00:00",
          "2010-01-01T00:00:00",
          "2011-01-01T00:00:00",
          "2012-01-01T00:00:00",
          "2013-01-01T00:00:00",
          "2014-01-01T00:00:00",
          "2015-01-01T00:00:00",
          "2016-01-01T00:00:00",
          "2017-01-01T00:00:00",
          "2018-01-01T00:00:00",
          "2019-01-01T00:00:00",
          "2020-01-01T00:00:00",
          "2021-01-01T00:00:00"
         ],
         "xaxis": "x",
         "y": [
          152901.33332753542,
          154069.04396080325,
          153591.78185337552,
          154404.80772597235,
          155129.45335237868,
          159184.88240469535,
          163481.21419900513,
          165964.01336217282,
          166716.39231237464,
          167439.7631725608,
          172445.52271031155,
          175371.21089437776,
          177529.9843847955,
          185812.05985174948,
          192817.59916544682,
          198930.65857421135,
          204870.12054152484,
          211717.4392078492,
          213022.7239823191,
          209659.47541330056,
          221807.69614489016,
          228133.1541251093,
          230894.76545484585,
          235187.71223915508,
          234890.72331702797,
          233427.7013861841,
          234034.98457760745,
          238043.64747768143,
          243493.63105755343,
          242987.51459927243,
          231883.75164846645,
          245218.31404181744
         ],
         "yaxis": "y",
         "type": "bar"
        },
        {
         "alignmentgroup": "True",
         "hovertemplate": "sector=other<br>year=%{x}<br>emission=%{y}<extra></extra>",
         "legendgroup": "other",
         "marker": {
          "color": "rgb(192, 197, 239, 1)",
          "pattern": {
           "shape": ""
          }
         },
         "name": "other",
         "offsetgroup": "other",
         "orientation": "v",
         "showlegend": true,
         "textposition": "auto",
         "x": [
          "1990-01-01T00:00:00",
          "1991-01-01T00:00:00",
          "1992-01-01T00:00:00",
          "1993-01-01T00:00:00",
          "1994-01-01T00:00:00",
          "1995-01-01T00:00:00",
          "1996-01-01T00:00:00",
          "1997-01-01T00:00:00",
          "1998-01-01T00:00:00",
          "1999-01-01T00:00:00",
          "2000-01-01T00:00:00",
          "2001-01-01T00:00:00",
          "2002-01-01T00:00:00",
          "2003-01-01T00:00:00",
          "2004-01-01T00:00:00",
          "2005-01-01T00:00:00",
          "2006-01-01T00:00:00",
          "2007-01-01T00:00:00",
          "2008-01-01T00:00:00",
          "2009-01-01T00:00:00",
          "2010-01-01T00:00:00",
          "2011-01-01T00:00:00",
          "2012-01-01T00:00:00",
          "2013-01-01T00:00:00",
          "2014-01-01T00:00:00",
          "2015-01-01T00:00:00",
          "2016-01-01T00:00:00",
          "2017-01-01T00:00:00",
          "2018-01-01T00:00:00",
          "2019-01-01T00:00:00",
          "2020-01-01T00:00:00",
          "2021-01-01T00:00:00"
         ],
         "xaxis": "x",
         "y": [
          330483.86289310217,
          330988.11114042706,
          328941.5494958647,
          329613.81114340737,
          331884.4769675605,
          339538.0071341704,
          342756.9353556622,
          353254.7563784176,
          349279.0834237589,
          348265.6304837319,
          354887.295487801,
          355846.5901995671,
          363246.15807912097,
          372874.39023174887,
          389800.1655801846,
          399281.201831534,
          412210.44232315087,
          419753.61825694167,
          421957.7598700697,
          420469.75870761013,
          437920.8807169969,
          439475.36513738235,
          444003.3415787161,
          448834.944327961,
          453902.6614707252,
          452976.3678405101,
          459071.06036832975,
          464593.49433144956,
          474178.4507830816,
          476758.8160881636,
          457619.5160459616,
          476141.5272403756
         ],
         "yaxis": "y",
         "type": "bar"
        },
        {
         "alignmentgroup": "True",
         "hovertemplate": "sector=transport<br>year=%{x}<br>emission=%{y}<extra></extra>",
         "legendgroup": "transport",
         "marker": {
          "color": "rgb(197, 239, 192, 1)",
          "pattern": {
           "shape": ""
          }
         },
         "name": "transport",
         "offsetgroup": "transport",
         "orientation": "v",
         "showlegend": true,
         "textposition": "auto",
         "x": [
          "1990-01-01T00:00:00",
          "1991-01-01T00:00:00",
          "1992-01-01T00:00:00",
          "1993-01-01T00:00:00",
          "1994-01-01T00:00:00",
          "1995-01-01T00:00:00",
          "1996-01-01T00:00:00",
          "1997-01-01T00:00:00",
          "1998-01-01T00:00:00",
          "1999-01-01T00:00:00",
          "2000-01-01T00:00:00",
          "2001-01-01T00:00:00",
          "2002-01-01T00:00:00",
          "2003-01-01T00:00:00",
          "2004-01-01T00:00:00",
          "2005-01-01T00:00:00",
          "2006-01-01T00:00:00",
          "2007-01-01T00:00:00",
          "2008-01-01T00:00:00",
          "2009-01-01T00:00:00",
          "2010-01-01T00:00:00",
          "2011-01-01T00:00:00",
          "2012-01-01T00:00:00",
          "2013-01-01T00:00:00",
          "2014-01-01T00:00:00",
          "2015-01-01T00:00:00",
          "2016-01-01T00:00:00",
          "2017-01-01T00:00:00",
          "2018-01-01T00:00:00",
          "2019-01-01T00:00:00",
          "2020-01-01T00:00:00",
          "2021-01-01T00:00:00"
         ],
         "xaxis": "x",
         "y": [
          21721.7054,
          21901.6698,
          22437.1578,
          22600.3628,
          23046.9188,
          23665.9526,
          24606.023999999998,
          25008.4116,
          25619.2438,
          26377.1782,
          27195.2778,
          27289.7682,
          28000.476599999998,
          28559.0668,
          29934.7536,
          30618.3654,
          31395.0822,
          32384.6208,
          32410.2412,
          31604.5256,
          32886.7058,
          33404.9592,
          33490.6292,
          34238.5164,
          34830.3982,
          35925.2558,
          36670.1874,
          37605.222,
          38485.2902,
          38536.012800000004,
          32548.7884,
          35056.799
         ],
         "yaxis": "y",
         "type": "bar"
        }
       ],
       "layout": {
        "template": {
         "data": {
          "histogram2dcontour": [
           {
            "type": "histogram2dcontour",
            "colorbar": {
             "outlinewidth": 0,
             "ticks": ""
            },
            "colorscale": [
             [
              0.0,
              "#0d0887"
             ],
             [
              0.1111111111111111,
              "#46039f"
             ],
             [
              0.2222222222222222,
              "#7201a8"
             ],
             [
              0.3333333333333333,
              "#9c179e"
             ],
             [
              0.4444444444444444,
              "#bd3786"
             ],
             [
              0.5555555555555556,
              "#d8576b"
             ],
             [
              0.6666666666666666,
              "#ed7953"
             ],
             [
              0.7777777777777778,
              "#fb9f3a"
             ],
             [
              0.8888888888888888,
              "#fdca26"
             ],
             [
              1.0,
              "#f0f921"
             ]
            ]
           }
          ],
          "choropleth": [
           {
            "type": "choropleth",
            "colorbar": {
             "outlinewidth": 0,
             "ticks": ""
            }
           }
          ],
          "histogram2d": [
           {
            "type": "histogram2d",
            "colorbar": {
             "outlinewidth": 0,
             "ticks": ""
            },
            "colorscale": [
             [
              0.0,
              "#0d0887"
             ],
             [
              0.1111111111111111,
              "#46039f"
             ],
             [
              0.2222222222222222,
              "#7201a8"
             ],
             [
              0.3333333333333333,
              "#9c179e"
             ],
             [
              0.4444444444444444,
              "#bd3786"
             ],
             [
              0.5555555555555556,
              "#d8576b"
             ],
             [
              0.6666666666666666,
              "#ed7953"
             ],
             [
              0.7777777777777778,
              "#fb9f3a"
             ],
             [
              0.8888888888888888,
              "#fdca26"
             ],
             [
              1.0,
              "#f0f921"
             ]
            ]
           }
          ],
          "heatmap": [
           {
            "type": "heatmap",
            "colorbar": {
             "outlinewidth": 0,
             "ticks": ""
            },
            "colorscale": [
             [
              0.0,
              "#0d0887"
             ],
             [
              0.1111111111111111,
              "#46039f"
             ],
             [
              0.2222222222222222,
              "#7201a8"
             ],
             [
              0.3333333333333333,
              "#9c179e"
             ],
             [
              0.4444444444444444,
              "#bd3786"
             ],
             [
              0.5555555555555556,
              "#d8576b"
             ],
             [
              0.6666666666666666,
              "#ed7953"
             ],
             [
              0.7777777777777778,
              "#fb9f3a"
             ],
             [
              0.8888888888888888,
              "#fdca26"
             ],
             [
              1.0,
              "#f0f921"
             ]
            ]
           }
          ],
          "heatmapgl": [
           {
            "type": "heatmapgl",
            "colorbar": {
             "outlinewidth": 0,
             "ticks": ""
            },
            "colorscale": [
             [
              0.0,
              "#0d0887"
             ],
             [
              0.1111111111111111,
              "#46039f"
             ],
             [
              0.2222222222222222,
              "#7201a8"
             ],
             [
              0.3333333333333333,
              "#9c179e"
             ],
             [
              0.4444444444444444,
              "#bd3786"
             ],
             [
              0.5555555555555556,
              "#d8576b"
             ],
             [
              0.6666666666666666,
              "#ed7953"
             ],
             [
              0.7777777777777778,
              "#fb9f3a"
             ],
             [
              0.8888888888888888,
              "#fdca26"
             ],
             [
              1.0,
              "#f0f921"
             ]
            ]
           }
          ],
          "contourcarpet": [
           {
            "type": "contourcarpet",
            "colorbar": {
             "outlinewidth": 0,
             "ticks": ""
            }
           }
          ],
          "contour": [
           {
            "type": "contour",
            "colorbar": {
             "outlinewidth": 0,
             "ticks": ""
            },
            "colorscale": [
             [
              0.0,
              "#0d0887"
             ],
             [
              0.1111111111111111,
              "#46039f"
             ],
             [
              0.2222222222222222,
              "#7201a8"
             ],
             [
              0.3333333333333333,
              "#9c179e"
             ],
             [
              0.4444444444444444,
              "#bd3786"
             ],
             [
              0.5555555555555556,
              "#d8576b"
             ],
             [
              0.6666666666666666,
              "#ed7953"
             ],
             [
              0.7777777777777778,
              "#fb9f3a"
             ],
             [
              0.8888888888888888,
              "#fdca26"
             ],
             [
              1.0,
              "#f0f921"
             ]
            ]
           }
          ],
          "surface": [
           {
            "type": "surface",
            "colorbar": {
             "outlinewidth": 0,
             "ticks": ""
            },
            "colorscale": [
             [
              0.0,
              "#0d0887"
             ],
             [
              0.1111111111111111,
              "#46039f"
             ],
             [
              0.2222222222222222,
              "#7201a8"
             ],
             [
              0.3333333333333333,
              "#9c179e"
             ],
             [
              0.4444444444444444,
              "#bd3786"
             ],
             [
              0.5555555555555556,
              "#d8576b"
             ],
             [
              0.6666666666666666,
              "#ed7953"
             ],
             [
              0.7777777777777778,
              "#fb9f3a"
             ],
             [
              0.8888888888888888,
              "#fdca26"
             ],
             [
              1.0,
              "#f0f921"
             ]
            ]
           }
          ],
          "mesh3d": [
           {
            "type": "mesh3d",
            "colorbar": {
             "outlinewidth": 0,
             "ticks": ""
            }
           }
          ],
          "scatter": [
           {
            "marker": {
             "line": {
              "color": "#283442"
             }
            },
            "type": "scatter"
           }
          ],
          "parcoords": [
           {
            "type": "parcoords",
            "line": {
             "colorbar": {
              "outlinewidth": 0,
              "ticks": ""
             }
            }
           }
          ],
          "scatterpolargl": [
           {
            "type": "scatterpolargl",
            "marker": {
             "colorbar": {
              "outlinewidth": 0,
              "ticks": ""
             }
            }
           }
          ],
          "bar": [
           {
            "error_x": {
             "color": "#f2f5fa"
            },
            "error_y": {
             "color": "#f2f5fa"
            },
            "marker": {
             "line": {
              "color": "rgb(17,17,17)",
              "width": 0.5
             },
             "pattern": {
              "fillmode": "overlay",
              "size": 10,
              "solidity": 0.2
             }
            },
            "type": "bar"
           }
          ],
          "scattergeo": [
           {
            "type": "scattergeo",
            "marker": {
             "colorbar": {
              "outlinewidth": 0,
              "ticks": ""
             }
            }
           }
          ],
          "scatterpolar": [
           {
            "type": "scatterpolar",
            "marker": {
             "colorbar": {
              "outlinewidth": 0,
              "ticks": ""
             }
            }
           }
          ],
          "histogram": [
           {
            "marker": {
             "pattern": {
              "fillmode": "overlay",
              "size": 10,
              "solidity": 0.2
             }
            },
            "type": "histogram"
           }
          ],
          "scattergl": [
           {
            "marker": {
             "line": {
              "color": "#283442"
             }
            },
            "type": "scattergl"
           }
          ],
          "scatter3d": [
           {
            "type": "scatter3d",
            "line": {
             "colorbar": {
              "outlinewidth": 0,
              "ticks": ""
             }
            },
            "marker": {
             "colorbar": {
              "outlinewidth": 0,
              "ticks": ""
             }
            }
           }
          ],
          "scattermapbox": [
           {
            "type": "scattermapbox",
            "marker": {
             "colorbar": {
              "outlinewidth": 0,
              "ticks": ""
             }
            }
           }
          ],
          "scatterternary": [
           {
            "type": "scatterternary",
            "marker": {
             "colorbar": {
              "outlinewidth": 0,
              "ticks": ""
             }
            }
           }
          ],
          "scattercarpet": [
           {
            "type": "scattercarpet",
            "marker": {
             "colorbar": {
              "outlinewidth": 0,
              "ticks": ""
             }
            }
           }
          ],
          "carpet": [
           {
            "aaxis": {
             "endlinecolor": "#A2B1C6",
             "gridcolor": "#506784",
             "linecolor": "#506784",
             "minorgridcolor": "#506784",
             "startlinecolor": "#A2B1C6"
            },
            "baxis": {
             "endlinecolor": "#A2B1C6",
             "gridcolor": "#506784",
             "linecolor": "#506784",
             "minorgridcolor": "#506784",
             "startlinecolor": "#A2B1C6"
            },
            "type": "carpet"
           }
          ],
          "table": [
           {
            "cells": {
             "fill": {
              "color": "#506784"
             },
             "line": {
              "color": "rgb(17,17,17)"
             }
            },
            "header": {
             "fill": {
              "color": "#2a3f5f"
             },
             "line": {
              "color": "rgb(17,17,17)"
             }
            },
            "type": "table"
           }
          ],
          "barpolar": [
           {
            "marker": {
             "line": {
              "color": "rgb(17,17,17)",
              "width": 0.5
             },
             "pattern": {
              "fillmode": "overlay",
              "size": 10,
              "solidity": 0.2
             }
            },
            "type": "barpolar"
           }
          ],
          "pie": [
           {
            "automargin": true,
            "type": "pie"
           }
          ]
         },
         "layout": {
          "autotypenumbers": "strict",
          "colorway": [
           "#636efa",
           "#EF553B",
           "#00cc96",
           "#ab63fa",
           "#FFA15A",
           "#19d3f3",
           "#FF6692",
           "#B6E880",
           "#FF97FF",
           "#FECB52"
          ],
          "font": {
           "color": "#f2f5fa"
          },
          "hovermode": "closest",
          "hoverlabel": {
           "align": "left"
          },
          "paper_bgcolor": "rgb(17,17,17)",
          "plot_bgcolor": "rgb(17,17,17)",
          "polar": {
           "bgcolor": "rgb(17,17,17)",
           "angularaxis": {
            "gridcolor": "#506784",
            "linecolor": "#506784",
            "ticks": ""
           },
           "radialaxis": {
            "gridcolor": "#506784",
            "linecolor": "#506784",
            "ticks": ""
           }
          },
          "ternary": {
           "bgcolor": "rgb(17,17,17)",
           "aaxis": {
            "gridcolor": "#506784",
            "linecolor": "#506784",
            "ticks": ""
           },
           "baxis": {
            "gridcolor": "#506784",
            "linecolor": "#506784",
            "ticks": ""
           },
           "caxis": {
            "gridcolor": "#506784",
            "linecolor": "#506784",
            "ticks": ""
           }
          },
          "coloraxis": {
           "colorbar": {
            "outlinewidth": 0,
            "ticks": ""
           }
          },
          "colorscale": {
           "sequential": [
            [
             0.0,
             "#0d0887"
            ],
            [
             0.1111111111111111,
             "#46039f"
            ],
            [
             0.2222222222222222,
             "#7201a8"
            ],
            [
             0.3333333333333333,
             "#9c179e"
            ],
            [
             0.4444444444444444,
             "#bd3786"
            ],
            [
             0.5555555555555556,
             "#d8576b"
            ],
            [
             0.6666666666666666,
             "#ed7953"
            ],
            [
             0.7777777777777778,
             "#fb9f3a"
            ],
            [
             0.8888888888888888,
             "#fdca26"
            ],
            [
             1.0,
             "#f0f921"
            ]
           ],
           "sequentialminus": [
            [
             0.0,
             "#0d0887"
            ],
            [
             0.1111111111111111,
             "#46039f"
            ],
            [
             0.2222222222222222,
             "#7201a8"
            ],
            [
             0.3333333333333333,
             "#9c179e"
            ],
            [
             0.4444444444444444,
             "#bd3786"
            ],
            [
             0.5555555555555556,
             "#d8576b"
            ],
            [
             0.6666666666666666,
             "#ed7953"
            ],
            [
             0.7777777777777778,
             "#fb9f3a"
            ],
            [
             0.8888888888888888,
             "#fdca26"
            ],
            [
             1.0,
             "#f0f921"
            ]
           ],
           "diverging": [
            [
             0,
             "#8e0152"
            ],
            [
             0.1,
             "#c51b7d"
            ],
            [
             0.2,
             "#de77ae"
            ],
            [
             0.3,
             "#f1b6da"
            ],
            [
             0.4,
             "#fde0ef"
            ],
            [
             0.5,
             "#f7f7f7"
            ],
            [
             0.6,
             "#e6f5d0"
            ],
            [
             0.7,
             "#b8e186"
            ],
            [
             0.8,
             "#7fbc41"
            ],
            [
             0.9,
             "#4d9221"
            ],
            [
             1,
             "#276419"
            ]
           ]
          },
          "xaxis": {
           "gridcolor": "#283442",
           "linecolor": "#506784",
           "ticks": "",
           "title": {
            "standoff": 15
           },
           "zerolinecolor": "#283442",
           "automargin": true,
           "zerolinewidth": 2
          },
          "yaxis": {
           "gridcolor": "#283442",
           "linecolor": "#506784",
           "ticks": "",
           "title": {
            "standoff": 15
           },
           "zerolinecolor": "#283442",
           "automargin": true,
           "zerolinewidth": 2
          },
          "scene": {
           "xaxis": {
            "backgroundcolor": "rgb(17,17,17)",
            "gridcolor": "#506784",
            "linecolor": "#506784",
            "showbackground": true,
            "ticks": "",
            "zerolinecolor": "#C8D4E3",
            "gridwidth": 2
           },
           "yaxis": {
            "backgroundcolor": "rgb(17,17,17)",
            "gridcolor": "#506784",
            "linecolor": "#506784",
            "showbackground": true,
            "ticks": "",
            "zerolinecolor": "#C8D4E3",
            "gridwidth": 2
           },
           "zaxis": {
            "backgroundcolor": "rgb(17,17,17)",
            "gridcolor": "#506784",
            "linecolor": "#506784",
            "showbackground": true,
            "ticks": "",
            "zerolinecolor": "#C8D4E3",
            "gridwidth": 2
           }
          },
          "shapedefaults": {
           "line": {
            "color": "#f2f5fa"
           }
          },
          "annotationdefaults": {
           "arrowcolor": "#f2f5fa",
           "arrowhead": 0,
           "arrowwidth": 1
          },
          "geo": {
           "bgcolor": "rgb(17,17,17)",
           "landcolor": "rgb(17,17,17)",
           "subunitcolor": "#506784",
           "showland": true,
           "showlakes": true,
           "lakecolor": "rgb(17,17,17)"
          },
          "title": {
           "x": 0.05
          },
          "updatemenudefaults": {
           "bgcolor": "#506784",
           "borderwidth": 0
          },
          "sliderdefaults": {
           "bgcolor": "#C8D4E3",
           "borderwidth": 1,
           "bordercolor": "rgb(17,17,17)",
           "tickwidth": 0
          },
          "mapbox": {
           "style": "dark"
          }
         }
        },
        "xaxis": {
         "anchor": "y",
         "domain": [
          0.0,
          1.0
         ],
         "title": {
          "text": "year",
          "font": {
           "color": "black"
          }
         },
         "tickfont": {
          "color": "black"
         }
        },
        "yaxis": {
         "anchor": "x",
         "domain": [
          0.0,
          1.0
         ],
         "title": {
          "text": "emission",
          "font": {
           "color": "black"
          }
         },
         "tickfont": {
          "color": "black"
         }
        },
        "legend": {
         "title": {
          "text": "sector"
         },
         "tracegroupgap": 0
        },
        "title": {
         "text": "Emissions by sector in Each Year"
        },
        "barmode": "stack",
        "updatemenus": [
         {
          "bgcolor": "rgba(228, 228, 228, 1)",
          "buttons": [
           {
            "args": [
             {
              "visible": [
               true,
               true,
               true
              ]
             },
             {
              "title": "Emissions by Fuel Category in Each Year"
             }
            ],
            "label": "All Sectors",
            "method": "update"
           },
           {
            "args": [
             {
              "visible": [
               true,
               false,
               false
              ]
             },
             {
              "title": "Emissions from buildings"
             }
            ],
            "label": "Buildings",
            "method": "update"
           },
           {
            "args": [
             {
              "visible": [
               false,
               false,
               true
              ]
             },
             {
              "title": "Emissions from transport"
             }
            ],
            "label": "Transport",
            "method": "update"
           },
           {
            "args": [
             {
              "visible": [
               false,
               true,
               false
              ]
             },
             {
              "title": "Emissions from other sectors"
             }
            ],
            "label": "Other",
            "method": "update"
           }
          ],
          "direction": "right",
          "showactive": true,
          "x": 0,
          "xanchor": "left",
          "y": 1.07,
          "yanchor": "top"
         }
        ],
        "font": {
         "color": "black"
        },
        "paper_bgcolor": "rgba(0,0,0,0)",
        "plot_bgcolor": "rgba(0,0,0,0)"
       },
       "config": {
        "plotlyServerURL": "https://plot.ly"
       }
      },
      "text/html": [
       "<div>                            <div id=\"c6377bcb-6922-4102-94f9-0a86ad661814\" class=\"plotly-graph-div\" style=\"height:525px; width:100%;\"></div>            <script type=\"text/javascript\">                require([\"plotly\"], function(Plotly) {                    window.PLOTLYENV=window.PLOTLYENV || {};                                    if (document.getElementById(\"c6377bcb-6922-4102-94f9-0a86ad661814\")) {                    Plotly.newPlot(                        \"c6377bcb-6922-4102-94f9-0a86ad661814\",                        [{\"alignmentgroup\":\"True\",\"hovertemplate\":\"sector=buildings\\u003cbr\\u003eyear=%{x}\\u003cbr\\u003eemission=%{y}\\u003cextra\\u003e\\u003c\\u002fextra\\u003e\",\"legendgroup\":\"buildings\",\"marker\":{\"color\":\"rgb(234, 192, 239, 1)\",\"pattern\":{\"shape\":\"\"}},\"name\":\"buildings\",\"offsetgroup\":\"buildings\",\"orientation\":\"v\",\"showlegend\":true,\"textposition\":\"auto\",\"x\":[\"1990-01-01T00:00:00\",\"1991-01-01T00:00:00\",\"1992-01-01T00:00:00\",\"1993-01-01T00:00:00\",\"1994-01-01T00:00:00\",\"1995-01-01T00:00:00\",\"1996-01-01T00:00:00\",\"1997-01-01T00:00:00\",\"1998-01-01T00:00:00\",\"1999-01-01T00:00:00\",\"2000-01-01T00:00:00\",\"2001-01-01T00:00:00\",\"2002-01-01T00:00:00\",\"2003-01-01T00:00:00\",\"2004-01-01T00:00:00\",\"2005-01-01T00:00:00\",\"2006-01-01T00:00:00\",\"2007-01-01T00:00:00\",\"2008-01-01T00:00:00\",\"2009-01-01T00:00:00\",\"2010-01-01T00:00:00\",\"2011-01-01T00:00:00\",\"2012-01-01T00:00:00\",\"2013-01-01T00:00:00\",\"2014-01-01T00:00:00\",\"2015-01-01T00:00:00\",\"2016-01-01T00:00:00\",\"2017-01-01T00:00:00\",\"2018-01-01T00:00:00\",\"2019-01-01T00:00:00\",\"2020-01-01T00:00:00\",\"2021-01-01T00:00:00\"],\"xaxis\":\"x\",\"y\":[152901.33332753542,154069.04396080325,153591.78185337552,154404.80772597235,155129.45335237868,159184.88240469535,163481.21419900513,165964.01336217282,166716.39231237464,167439.7631725608,172445.52271031155,175371.21089437776,177529.9843847955,185812.05985174948,192817.59916544682,198930.65857421135,204870.12054152484,211717.4392078492,213022.7239823191,209659.47541330056,221807.69614489016,228133.1541251093,230894.76545484585,235187.71223915508,234890.72331702797,233427.7013861841,234034.98457760745,238043.64747768143,243493.63105755343,242987.51459927243,231883.75164846645,245218.31404181744],\"yaxis\":\"y\",\"type\":\"bar\"},{\"alignmentgroup\":\"True\",\"hovertemplate\":\"sector=other\\u003cbr\\u003eyear=%{x}\\u003cbr\\u003eemission=%{y}\\u003cextra\\u003e\\u003c\\u002fextra\\u003e\",\"legendgroup\":\"other\",\"marker\":{\"color\":\"rgb(192, 197, 239, 1)\",\"pattern\":{\"shape\":\"\"}},\"name\":\"other\",\"offsetgroup\":\"other\",\"orientation\":\"v\",\"showlegend\":true,\"textposition\":\"auto\",\"x\":[\"1990-01-01T00:00:00\",\"1991-01-01T00:00:00\",\"1992-01-01T00:00:00\",\"1993-01-01T00:00:00\",\"1994-01-01T00:00:00\",\"1995-01-01T00:00:00\",\"1996-01-01T00:00:00\",\"1997-01-01T00:00:00\",\"1998-01-01T00:00:00\",\"1999-01-01T00:00:00\",\"2000-01-01T00:00:00\",\"2001-01-01T00:00:00\",\"2002-01-01T00:00:00\",\"2003-01-01T00:00:00\",\"2004-01-01T00:00:00\",\"2005-01-01T00:00:00\",\"2006-01-01T00:00:00\",\"2007-01-01T00:00:00\",\"2008-01-01T00:00:00\",\"2009-01-01T00:00:00\",\"2010-01-01T00:00:00\",\"2011-01-01T00:00:00\",\"2012-01-01T00:00:00\",\"2013-01-01T00:00:00\",\"2014-01-01T00:00:00\",\"2015-01-01T00:00:00\",\"2016-01-01T00:00:00\",\"2017-01-01T00:00:00\",\"2018-01-01T00:00:00\",\"2019-01-01T00:00:00\",\"2020-01-01T00:00:00\",\"2021-01-01T00:00:00\"],\"xaxis\":\"x\",\"y\":[330483.86289310217,330988.11114042706,328941.5494958647,329613.81114340737,331884.4769675605,339538.0071341704,342756.9353556622,353254.7563784176,349279.0834237589,348265.6304837319,354887.295487801,355846.5901995671,363246.15807912097,372874.39023174887,389800.1655801846,399281.201831534,412210.44232315087,419753.61825694167,421957.7598700697,420469.75870761013,437920.8807169969,439475.36513738235,444003.3415787161,448834.944327961,453902.6614707252,452976.3678405101,459071.06036832975,464593.49433144956,474178.4507830816,476758.8160881636,457619.5160459616,476141.5272403756],\"yaxis\":\"y\",\"type\":\"bar\"},{\"alignmentgroup\":\"True\",\"hovertemplate\":\"sector=transport\\u003cbr\\u003eyear=%{x}\\u003cbr\\u003eemission=%{y}\\u003cextra\\u003e\\u003c\\u002fextra\\u003e\",\"legendgroup\":\"transport\",\"marker\":{\"color\":\"rgb(197, 239, 192, 1)\",\"pattern\":{\"shape\":\"\"}},\"name\":\"transport\",\"offsetgroup\":\"transport\",\"orientation\":\"v\",\"showlegend\":true,\"textposition\":\"auto\",\"x\":[\"1990-01-01T00:00:00\",\"1991-01-01T00:00:00\",\"1992-01-01T00:00:00\",\"1993-01-01T00:00:00\",\"1994-01-01T00:00:00\",\"1995-01-01T00:00:00\",\"1996-01-01T00:00:00\",\"1997-01-01T00:00:00\",\"1998-01-01T00:00:00\",\"1999-01-01T00:00:00\",\"2000-01-01T00:00:00\",\"2001-01-01T00:00:00\",\"2002-01-01T00:00:00\",\"2003-01-01T00:00:00\",\"2004-01-01T00:00:00\",\"2005-01-01T00:00:00\",\"2006-01-01T00:00:00\",\"2007-01-01T00:00:00\",\"2008-01-01T00:00:00\",\"2009-01-01T00:00:00\",\"2010-01-01T00:00:00\",\"2011-01-01T00:00:00\",\"2012-01-01T00:00:00\",\"2013-01-01T00:00:00\",\"2014-01-01T00:00:00\",\"2015-01-01T00:00:00\",\"2016-01-01T00:00:00\",\"2017-01-01T00:00:00\",\"2018-01-01T00:00:00\",\"2019-01-01T00:00:00\",\"2020-01-01T00:00:00\",\"2021-01-01T00:00:00\"],\"xaxis\":\"x\",\"y\":[21721.7054,21901.6698,22437.1578,22600.3628,23046.9188,23665.9526,24606.023999999998,25008.4116,25619.2438,26377.1782,27195.2778,27289.7682,28000.476599999998,28559.0668,29934.7536,30618.3654,31395.0822,32384.6208,32410.2412,31604.5256,32886.7058,33404.9592,33490.6292,34238.5164,34830.3982,35925.2558,36670.1874,37605.222,38485.2902,38536.012800000004,32548.7884,35056.799],\"yaxis\":\"y\",\"type\":\"bar\"}],                        {\"template\":{\"data\":{\"histogram2dcontour\":[{\"type\":\"histogram2dcontour\",\"colorbar\":{\"outlinewidth\":0,\"ticks\":\"\"},\"colorscale\":[[0.0,\"#0d0887\"],[0.1111111111111111,\"#46039f\"],[0.2222222222222222,\"#7201a8\"],[0.3333333333333333,\"#9c179e\"],[0.4444444444444444,\"#bd3786\"],[0.5555555555555556,\"#d8576b\"],[0.6666666666666666,\"#ed7953\"],[0.7777777777777778,\"#fb9f3a\"],[0.8888888888888888,\"#fdca26\"],[1.0,\"#f0f921\"]]}],\"choropleth\":[{\"type\":\"choropleth\",\"colorbar\":{\"outlinewidth\":0,\"ticks\":\"\"}}],\"histogram2d\":[{\"type\":\"histogram2d\",\"colorbar\":{\"outlinewidth\":0,\"ticks\":\"\"},\"colorscale\":[[0.0,\"#0d0887\"],[0.1111111111111111,\"#46039f\"],[0.2222222222222222,\"#7201a8\"],[0.3333333333333333,\"#9c179e\"],[0.4444444444444444,\"#bd3786\"],[0.5555555555555556,\"#d8576b\"],[0.6666666666666666,\"#ed7953\"],[0.7777777777777778,\"#fb9f3a\"],[0.8888888888888888,\"#fdca26\"],[1.0,\"#f0f921\"]]}],\"heatmap\":[{\"type\":\"heatmap\",\"colorbar\":{\"outlinewidth\":0,\"ticks\":\"\"},\"colorscale\":[[0.0,\"#0d0887\"],[0.1111111111111111,\"#46039f\"],[0.2222222222222222,\"#7201a8\"],[0.3333333333333333,\"#9c179e\"],[0.4444444444444444,\"#bd3786\"],[0.5555555555555556,\"#d8576b\"],[0.6666666666666666,\"#ed7953\"],[0.7777777777777778,\"#fb9f3a\"],[0.8888888888888888,\"#fdca26\"],[1.0,\"#f0f921\"]]}],\"heatmapgl\":[{\"type\":\"heatmapgl\",\"colorbar\":{\"outlinewidth\":0,\"ticks\":\"\"},\"colorscale\":[[0.0,\"#0d0887\"],[0.1111111111111111,\"#46039f\"],[0.2222222222222222,\"#7201a8\"],[0.3333333333333333,\"#9c179e\"],[0.4444444444444444,\"#bd3786\"],[0.5555555555555556,\"#d8576b\"],[0.6666666666666666,\"#ed7953\"],[0.7777777777777778,\"#fb9f3a\"],[0.8888888888888888,\"#fdca26\"],[1.0,\"#f0f921\"]]}],\"contourcarpet\":[{\"type\":\"contourcarpet\",\"colorbar\":{\"outlinewidth\":0,\"ticks\":\"\"}}],\"contour\":[{\"type\":\"contour\",\"colorbar\":{\"outlinewidth\":0,\"ticks\":\"\"},\"colorscale\":[[0.0,\"#0d0887\"],[0.1111111111111111,\"#46039f\"],[0.2222222222222222,\"#7201a8\"],[0.3333333333333333,\"#9c179e\"],[0.4444444444444444,\"#bd3786\"],[0.5555555555555556,\"#d8576b\"],[0.6666666666666666,\"#ed7953\"],[0.7777777777777778,\"#fb9f3a\"],[0.8888888888888888,\"#fdca26\"],[1.0,\"#f0f921\"]]}],\"surface\":[{\"type\":\"surface\",\"colorbar\":{\"outlinewidth\":0,\"ticks\":\"\"},\"colorscale\":[[0.0,\"#0d0887\"],[0.1111111111111111,\"#46039f\"],[0.2222222222222222,\"#7201a8\"],[0.3333333333333333,\"#9c179e\"],[0.4444444444444444,\"#bd3786\"],[0.5555555555555556,\"#d8576b\"],[0.6666666666666666,\"#ed7953\"],[0.7777777777777778,\"#fb9f3a\"],[0.8888888888888888,\"#fdca26\"],[1.0,\"#f0f921\"]]}],\"mesh3d\":[{\"type\":\"mesh3d\",\"colorbar\":{\"outlinewidth\":0,\"ticks\":\"\"}}],\"scatter\":[{\"marker\":{\"line\":{\"color\":\"#283442\"}},\"type\":\"scatter\"}],\"parcoords\":[{\"type\":\"parcoords\",\"line\":{\"colorbar\":{\"outlinewidth\":0,\"ticks\":\"\"}}}],\"scatterpolargl\":[{\"type\":\"scatterpolargl\",\"marker\":{\"colorbar\":{\"outlinewidth\":0,\"ticks\":\"\"}}}],\"bar\":[{\"error_x\":{\"color\":\"#f2f5fa\"},\"error_y\":{\"color\":\"#f2f5fa\"},\"marker\":{\"line\":{\"color\":\"rgb(17,17,17)\",\"width\":0.5},\"pattern\":{\"fillmode\":\"overlay\",\"size\":10,\"solidity\":0.2}},\"type\":\"bar\"}],\"scattergeo\":[{\"type\":\"scattergeo\",\"marker\":{\"colorbar\":{\"outlinewidth\":0,\"ticks\":\"\"}}}],\"scatterpolar\":[{\"type\":\"scatterpolar\",\"marker\":{\"colorbar\":{\"outlinewidth\":0,\"ticks\":\"\"}}}],\"histogram\":[{\"marker\":{\"pattern\":{\"fillmode\":\"overlay\",\"size\":10,\"solidity\":0.2}},\"type\":\"histogram\"}],\"scattergl\":[{\"marker\":{\"line\":{\"color\":\"#283442\"}},\"type\":\"scattergl\"}],\"scatter3d\":[{\"type\":\"scatter3d\",\"line\":{\"colorbar\":{\"outlinewidth\":0,\"ticks\":\"\"}},\"marker\":{\"colorbar\":{\"outlinewidth\":0,\"ticks\":\"\"}}}],\"scattermapbox\":[{\"type\":\"scattermapbox\",\"marker\":{\"colorbar\":{\"outlinewidth\":0,\"ticks\":\"\"}}}],\"scatterternary\":[{\"type\":\"scatterternary\",\"marker\":{\"colorbar\":{\"outlinewidth\":0,\"ticks\":\"\"}}}],\"scattercarpet\":[{\"type\":\"scattercarpet\",\"marker\":{\"colorbar\":{\"outlinewidth\":0,\"ticks\":\"\"}}}],\"carpet\":[{\"aaxis\":{\"endlinecolor\":\"#A2B1C6\",\"gridcolor\":\"#506784\",\"linecolor\":\"#506784\",\"minorgridcolor\":\"#506784\",\"startlinecolor\":\"#A2B1C6\"},\"baxis\":{\"endlinecolor\":\"#A2B1C6\",\"gridcolor\":\"#506784\",\"linecolor\":\"#506784\",\"minorgridcolor\":\"#506784\",\"startlinecolor\":\"#A2B1C6\"},\"type\":\"carpet\"}],\"table\":[{\"cells\":{\"fill\":{\"color\":\"#506784\"},\"line\":{\"color\":\"rgb(17,17,17)\"}},\"header\":{\"fill\":{\"color\":\"#2a3f5f\"},\"line\":{\"color\":\"rgb(17,17,17)\"}},\"type\":\"table\"}],\"barpolar\":[{\"marker\":{\"line\":{\"color\":\"rgb(17,17,17)\",\"width\":0.5},\"pattern\":{\"fillmode\":\"overlay\",\"size\":10,\"solidity\":0.2}},\"type\":\"barpolar\"}],\"pie\":[{\"automargin\":true,\"type\":\"pie\"}]},\"layout\":{\"autotypenumbers\":\"strict\",\"colorway\":[\"#636efa\",\"#EF553B\",\"#00cc96\",\"#ab63fa\",\"#FFA15A\",\"#19d3f3\",\"#FF6692\",\"#B6E880\",\"#FF97FF\",\"#FECB52\"],\"font\":{\"color\":\"#f2f5fa\"},\"hovermode\":\"closest\",\"hoverlabel\":{\"align\":\"left\"},\"paper_bgcolor\":\"rgb(17,17,17)\",\"plot_bgcolor\":\"rgb(17,17,17)\",\"polar\":{\"bgcolor\":\"rgb(17,17,17)\",\"angularaxis\":{\"gridcolor\":\"#506784\",\"linecolor\":\"#506784\",\"ticks\":\"\"},\"radialaxis\":{\"gridcolor\":\"#506784\",\"linecolor\":\"#506784\",\"ticks\":\"\"}},\"ternary\":{\"bgcolor\":\"rgb(17,17,17)\",\"aaxis\":{\"gridcolor\":\"#506784\",\"linecolor\":\"#506784\",\"ticks\":\"\"},\"baxis\":{\"gridcolor\":\"#506784\",\"linecolor\":\"#506784\",\"ticks\":\"\"},\"caxis\":{\"gridcolor\":\"#506784\",\"linecolor\":\"#506784\",\"ticks\":\"\"}},\"coloraxis\":{\"colorbar\":{\"outlinewidth\":0,\"ticks\":\"\"}},\"colorscale\":{\"sequential\":[[0.0,\"#0d0887\"],[0.1111111111111111,\"#46039f\"],[0.2222222222222222,\"#7201a8\"],[0.3333333333333333,\"#9c179e\"],[0.4444444444444444,\"#bd3786\"],[0.5555555555555556,\"#d8576b\"],[0.6666666666666666,\"#ed7953\"],[0.7777777777777778,\"#fb9f3a\"],[0.8888888888888888,\"#fdca26\"],[1.0,\"#f0f921\"]],\"sequentialminus\":[[0.0,\"#0d0887\"],[0.1111111111111111,\"#46039f\"],[0.2222222222222222,\"#7201a8\"],[0.3333333333333333,\"#9c179e\"],[0.4444444444444444,\"#bd3786\"],[0.5555555555555556,\"#d8576b\"],[0.6666666666666666,\"#ed7953\"],[0.7777777777777778,\"#fb9f3a\"],[0.8888888888888888,\"#fdca26\"],[1.0,\"#f0f921\"]],\"diverging\":[[0,\"#8e0152\"],[0.1,\"#c51b7d\"],[0.2,\"#de77ae\"],[0.3,\"#f1b6da\"],[0.4,\"#fde0ef\"],[0.5,\"#f7f7f7\"],[0.6,\"#e6f5d0\"],[0.7,\"#b8e186\"],[0.8,\"#7fbc41\"],[0.9,\"#4d9221\"],[1,\"#276419\"]]},\"xaxis\":{\"gridcolor\":\"#283442\",\"linecolor\":\"#506784\",\"ticks\":\"\",\"title\":{\"standoff\":15},\"zerolinecolor\":\"#283442\",\"automargin\":true,\"zerolinewidth\":2},\"yaxis\":{\"gridcolor\":\"#283442\",\"linecolor\":\"#506784\",\"ticks\":\"\",\"title\":{\"standoff\":15},\"zerolinecolor\":\"#283442\",\"automargin\":true,\"zerolinewidth\":2},\"scene\":{\"xaxis\":{\"backgroundcolor\":\"rgb(17,17,17)\",\"gridcolor\":\"#506784\",\"linecolor\":\"#506784\",\"showbackground\":true,\"ticks\":\"\",\"zerolinecolor\":\"#C8D4E3\",\"gridwidth\":2},\"yaxis\":{\"backgroundcolor\":\"rgb(17,17,17)\",\"gridcolor\":\"#506784\",\"linecolor\":\"#506784\",\"showbackground\":true,\"ticks\":\"\",\"zerolinecolor\":\"#C8D4E3\",\"gridwidth\":2},\"zaxis\":{\"backgroundcolor\":\"rgb(17,17,17)\",\"gridcolor\":\"#506784\",\"linecolor\":\"#506784\",\"showbackground\":true,\"ticks\":\"\",\"zerolinecolor\":\"#C8D4E3\",\"gridwidth\":2}},\"shapedefaults\":{\"line\":{\"color\":\"#f2f5fa\"}},\"annotationdefaults\":{\"arrowcolor\":\"#f2f5fa\",\"arrowhead\":0,\"arrowwidth\":1},\"geo\":{\"bgcolor\":\"rgb(17,17,17)\",\"landcolor\":\"rgb(17,17,17)\",\"subunitcolor\":\"#506784\",\"showland\":true,\"showlakes\":true,\"lakecolor\":\"rgb(17,17,17)\"},\"title\":{\"x\":0.05},\"updatemenudefaults\":{\"bgcolor\":\"#506784\",\"borderwidth\":0},\"sliderdefaults\":{\"bgcolor\":\"#C8D4E3\",\"borderwidth\":1,\"bordercolor\":\"rgb(17,17,17)\",\"tickwidth\":0},\"mapbox\":{\"style\":\"dark\"}}},\"xaxis\":{\"anchor\":\"y\",\"domain\":[0.0,1.0],\"title\":{\"text\":\"year\",\"font\":{\"color\":\"black\"}},\"tickfont\":{\"color\":\"black\"}},\"yaxis\":{\"anchor\":\"x\",\"domain\":[0.0,1.0],\"title\":{\"text\":\"emission\",\"font\":{\"color\":\"black\"}},\"tickfont\":{\"color\":\"black\"}},\"legend\":{\"title\":{\"text\":\"sector\"},\"tracegroupgap\":0},\"title\":{\"text\":\"Emissions by sector in Each Year\"},\"barmode\":\"stack\",\"updatemenus\":[{\"bgcolor\":\"rgba(228, 228, 228, 1)\",\"buttons\":[{\"args\":[{\"visible\":[true,true,true]},{\"title\":\"Emissions by Fuel Category in Each Year\"}],\"label\":\"All Sectors\",\"method\":\"update\"},{\"args\":[{\"visible\":[true,false,false]},{\"title\":\"Emissions from buildings\"}],\"label\":\"Buildings\",\"method\":\"update\"},{\"args\":[{\"visible\":[false,false,true]},{\"title\":\"Emissions from transport\"}],\"label\":\"Transport\",\"method\":\"update\"},{\"args\":[{\"visible\":[false,true,false]},{\"title\":\"Emissions from other sectors\"}],\"label\":\"Other\",\"method\":\"update\"}],\"direction\":\"right\",\"showactive\":true,\"x\":0,\"xanchor\":\"left\",\"y\":1.07,\"yanchor\":\"top\"}],\"font\":{\"color\":\"black\"},\"paper_bgcolor\":\"rgba(0,0,0,0)\",\"plot_bgcolor\":\"rgba(0,0,0,0)\"},                        {\"responsive\": true}                    ).then(function(){\n",
       "                            \n",
       "var gd = document.getElementById('c6377bcb-6922-4102-94f9-0a86ad661814');\n",
       "var x = new MutationObserver(function (mutations, observer) {{\n",
       "        var display = window.getComputedStyle(gd).display;\n",
       "        if (!display || display === 'none') {{\n",
       "            console.log([gd, 'removed!']);\n",
       "            Plotly.purge(gd);\n",
       "            observer.disconnect();\n",
       "        }}\n",
       "}});\n",
       "\n",
       "// Listen for the removal of the full notebook cells\n",
       "var notebookContainer = gd.closest('#notebook-container');\n",
       "if (notebookContainer) {{\n",
       "    x.observe(notebookContainer, {childList: true});\n",
       "}}\n",
       "\n",
       "// Listen for the clearing of the current output cell\n",
       "var outputEl = gd.closest('.output');\n",
       "if (outputEl) {{\n",
       "    x.observe(outputEl, {childList: true});\n",
       "}}\n",
       "\n",
       "                        })                };                });            </script>        </div>"
      ]
     },
     "metadata": {},
     "output_type": "display_data"
    }
   ],
   "execution_count": 25
  }
 ],
 "metadata": {
  "kernelspec": {
   "name": "python3",
   "language": "python",
   "display_name": "Python 3 (ipykernel)"
  }
 },
 "nbformat": 5,
 "nbformat_minor": 9
}
